{
  "nbformat": 4,
  "nbformat_minor": 0,
  "metadata": {
    "kernelspec": {
      "display_name": "Python 3",
      "language": "python",
      "name": "python3"
    },
    "language_info": {
      "codemirror_mode": {
        "name": "ipython",
        "version": 3
      },
      "file_extension": ".py",
      "mimetype": "text/x-python",
      "name": "python",
      "nbconvert_exporter": "python",
      "pygments_lexer": "ipython3",
      "version": "3.7.6"
    },
    "colab": {
      "name": "achmad.iqsan@gmail.com.ipynb",
      "provenance": [],
      "collapsed_sections": []
    }
  },
  "cells": [
    {
      "cell_type": "markdown",
      "metadata": {
        "id": "P1yV4PS_B6wd",
        "colab_type": "text"
      },
      "source": [
        "# QUIZ-3\n",
        "Dataset-dataset berikut ini menunjukkan persentase lemak, protein, dan food yang dikonsumsi dari setiap jenis makanan yang terdaftar. Akhir dataset juga mencakup persentase obesitas dan kurang gizi, dan persentase kasus COVID-19 Terkonfirmasi/Kematian/Sembuh/Aktif (Catatan: Semua data memiliki unit% kecuali Populasi, Unit % tersebut berdasarkan jumlah populasi).\n",
        "\n",
        "Link Download:\n",
        "\n",
        "[Food_Supply_Quantity_kg_Data.csv](https://drive.google.com/uc?export=download&id=1EHSvX9TWPTQXwWLxW9xyKyM8EFoPohOW)\n",
        "\n",
        "[Protein_Supply_Quantity_Data.csv](https://drive.google.com/uc?export=download&id=1Qr4U9lQAVAI3Jcqk0n2HvVHulW_iaKAc)\n",
        "\n",
        "[Fat_Supply_Quantity_Data.csv](https://drive.google.com/uc?export=download&id=1VCzZyckdANfyqh2fJEUecXAt-uCJGxaT)\n",
        "\n",
        "[Supply_Food_Data_Descriptions.csv](https://drive.google.com/uc?export=download&id=1VwZsUhqtPTiQgGHQqjjMFXDriIu1_Gaz)"
      ]
    },
    {
      "cell_type": "code",
      "metadata": {
        "id": "7mh30fPxB6wi",
        "colab_type": "code",
        "colab": {}
      },
      "source": [
        "import pandas as pd\n",
        "\n",
        "# Import Semua Data\n",
        "df_food = pd.read_csv('Food_Supply_Quantity_kg_Data.csv')\n",
        "df_protein = pd.read_csv('Protein_Supply_Quantity_Data.csv')\n",
        "df_fat = pd.read_csv('Fat_Supply_Quantity_Data.csv')\n",
        "df_category = pd.read_csv('Supply_Food_Data_Descriptions.csv')"
      ],
      "execution_count": 0,
      "outputs": []
    },
    {
      "cell_type": "markdown",
      "metadata": {
        "id": "-pQHcLgQB6w2",
        "colab_type": "text"
      },
      "source": [
        "<h2> 1. Python Quiz: Memisahkan antara column tentang makanan yang di supply dan bukan makanan</h2>\n",
        "\n",
        "di akhir kita mempunyai data list berisi semua column tentang supply makanan dan non supply makanan atau column tentang covid-19 beserta populasi, cara kalian mendapatkannya bebas yang penting sesuai output."
      ]
    },
    {
      "cell_type": "markdown",
      "metadata": {
        "id": "dxEfwTdBB6w5",
        "colab_type": "text"
      },
      "source": [
        "Hasil Akhir Yang di harapkan :\n",
        "\n",
        "- supply columns => columns berisi column tentang semua jenis supply makanan\n",
        "- all columns => Semua columns\n",
        "- non supply columns => column column tentang data covid-19 + obesitas + Undernourished + populasi\n",
        "\n",
        "![alt text](https://drive.google.com/uc?id=1OfUO60EJbM2ESz1BmNTQ_WGbGQ75h4eI)"
      ]
    },
    {
      "cell_type": "code",
      "metadata": {
        "id": "Wl_SmBiIB6w7",
        "colab_type": "code",
        "colab": {
          "base_uri": "https://localhost:8080/",
          "height": 170
        },
        "outputId": "81ac9e90-9f94-4c1d-8c0a-a082e3a19e0e"
      },
      "source": [
        "# Code Here\n",
        "import pandas as pd\n",
        "import numpy as np\n",
        "import matplotlib.pyplot as plt\n",
        "\n",
        "df_food.axes[1:27]"
      ],
      "execution_count": 2,
      "outputs": [
        {
          "output_type": "execute_result",
          "data": {
            "text/plain": [
              "[Index(['Country', 'Alcoholic Beverages', 'Animal fats', 'Animal Products',\n",
              "        'Aquatic Products, Other', 'Cereals - Excluding Beer', 'Eggs',\n",
              "        'Fish, Seafood', 'Fruits - Excluding Wine', 'Meat',\n",
              "        'Milk - Excluding Butter', 'Miscellaneous', 'Offals', 'Oilcrops',\n",
              "        'Pulses', 'Spices', 'Starchy Roots', 'Stimulants', 'Sugar & Sweeteners',\n",
              "        'Sugar Crops', 'Treenuts', 'Vegetable Oils', 'Vegetables',\n",
              "        'Vegetal Products', 'Obesity', 'Undernourished', 'Confirmed', 'Deaths',\n",
              "        'Recovered', 'Active', 'Population', 'Unit (all except Population)'],\n",
              "       dtype='object')]"
            ]
          },
          "metadata": {
            "tags": []
          },
          "execution_count": 2
        }
      ]
    },
    {
      "cell_type": "code",
      "metadata": {
        "id": "EP8hIWNIw5gL",
        "colab_type": "code",
        "colab": {
          "base_uri": "https://localhost:8080/",
          "height": 187
        },
        "outputId": "5a40ab87-518f-4123-ac44-4656885ae4fc"
      },
      "source": [
        "df_food.axes"
      ],
      "execution_count": 3,
      "outputs": [
        {
          "output_type": "execute_result",
          "data": {
            "text/plain": [
              "[RangeIndex(start=0, stop=170, step=1),\n",
              " Index(['Country', 'Alcoholic Beverages', 'Animal fats', 'Animal Products',\n",
              "        'Aquatic Products, Other', 'Cereals - Excluding Beer', 'Eggs',\n",
              "        'Fish, Seafood', 'Fruits - Excluding Wine', 'Meat',\n",
              "        'Milk - Excluding Butter', 'Miscellaneous', 'Offals', 'Oilcrops',\n",
              "        'Pulses', 'Spices', 'Starchy Roots', 'Stimulants', 'Sugar & Sweeteners',\n",
              "        'Sugar Crops', 'Treenuts', 'Vegetable Oils', 'Vegetables',\n",
              "        'Vegetal Products', 'Obesity', 'Undernourished', 'Confirmed', 'Deaths',\n",
              "        'Recovered', 'Active', 'Population', 'Unit (all except Population)'],\n",
              "       dtype='object')]"
            ]
          },
          "metadata": {
            "tags": []
          },
          "execution_count": 3
        }
      ]
    },
    {
      "cell_type": "code",
      "metadata": {
        "id": "CFlXwkOSw9Gf",
        "colab_type": "code",
        "colab": {
          "base_uri": "https://localhost:8080/",
          "height": 68
        },
        "outputId": "11f26728-2d62-4a39-aac2-1926052a4b40"
      },
      "source": [
        "df = df_food.columns[[0, 24, 25,26,27,28,29,30,31]]\n",
        "print(df)"
      ],
      "execution_count": 4,
      "outputs": [
        {
          "output_type": "stream",
          "text": [
            "Index(['Country', 'Obesity', 'Undernourished', 'Confirmed', 'Deaths',\n",
            "       'Recovered', 'Active', 'Population', 'Unit (all except Population)'],\n",
            "      dtype='object')\n"
          ],
          "name": "stdout"
        }
      ]
    },
    {
      "cell_type": "markdown",
      "metadata": {
        "id": "D2b31tlRB6xQ",
        "colab_type": "text"
      },
      "source": [
        "<h2>2. Pandas Quiz: Menggabungkan DataFrame </h2>\n",
        "\n",
        "Gabungkan Semua data dimana semua data nya berisi semua row dan column yang unik. berikan unique suffixes kepada nama column yang berlabel sama tapi berisi informasi yang berbeda.\n",
        "\n",
        "Tidak boleh ada column yang berisi data informasi yang sama."
      ]
    },
    {
      "cell_type": "markdown",
      "metadata": {
        "id": "hgetKQiFB6xT",
        "colab_type": "text"
      },
      "source": [
        "Hasil akhir yang di harapkan mengenai data adalah seperti berikut:\n",
        "\n",
        "Lima data pertama :\n",
        "\n",
        "![alt text](https://drive.google.com/uc?id=1pUqpDnU8V4zy58GEOF9bIWjbcXnhIICU)\n",
        "\n",
        "Dimensi data Hasil Gabung :\n",
        "(170, 78)\n",
        "\n",
        "Column Data Hasil Gabung, Perhatikan bahwa di setiap akhir nama column, nama column tersebut di tambahkan dengan suffixes berdasarkan asal data tersebut :\n",
        "\n",
        "['Country', 'Alcoholic Beverages_food', 'Animal fats_food',\n",
        "       'Animal Products_food', 'Aquatic Products, Other_food',\n",
        "       'Cereals - Excluding Beer_food', 'Eggs_food', 'Fish, Seafood_food',\n",
        "       'Fruits - Excluding Wine_food', 'Meat_food',\n",
        "       'Milk - Excluding Butter_food', 'Miscellaneous_food', 'Offals_food',\n",
        "       'Oilcrops_food', 'Pulses_food', 'Spices_food', 'Starchy Roots_food',\n",
        "       'Stimulants_food', 'Sugar & Sweeteners_food', 'Sugar Crops_food',\n",
        "       'Treenuts_food', 'Vegetable Oils_food', 'Vegetables_food',\n",
        "       'Vegetal Products_food', 'Obesity', 'Undernourished', 'Confirmed',\n",
        "       'Deaths', 'Recovered', 'Active', 'Population',\n",
        "       'Unit (all except Population)', 'Alcoholic Beverages_fat',\n",
        "       'Animal Products_fat', 'Animal fats_fat', 'Aquatic Products, Other_fat',\n",
        "       'Cereals - Excluding Beer_fat', 'Eggs_fat', 'Fish, Seafood_fat',\n",
        "       'Fruits - Excluding Wine_fat', 'Meat_fat', 'Miscellaneous_fat',\n",
        "       'Milk - Excluding Butter_fat', 'Offals_fat', 'Oilcrops_fat',\n",
        "       'Pulses_fat', 'Spices_fat', 'Starchy Roots_fat', 'Stimulants_fat',\n",
        "       'Sugar Crops_fat', 'Sugar & Sweeteners_fat', 'Treenuts_fat',\n",
        "       'Vegetal Products_fat', 'Vegetable Oils_fat', 'Vegetables_fat',\n",
        "       'Alcoholic Beverages_protein', 'Animal Products_protein',\n",
        "       'Animal fats_protein', 'Aquatic Products, Other_protein',\n",
        "       'Cereals - Excluding Beer_protein', 'Eggs_protein',\n",
        "       'Fish, Seafood_protein', 'Fruits - Excluding Wine_protein',\n",
        "       'Meat_protein', 'Milk - Excluding Butter_protein', 'Offals_protein',\n",
        "       'Oilcrops_protein', 'Pulses_protein', 'Spices_protein',\n",
        "       'Starchy Roots_protein', 'Stimulants_protein', 'Sugar Crops_protein',\n",
        "       'Sugar & Sweeteners_protein', 'Treenuts_protein',\n",
        "       'Vegetal Products_protein', 'Vegetable Oils_protein',\n",
        "       'Vegetables_protein', 'Miscellaneous_protein']"
      ]
    },
    {
      "cell_type": "code",
      "metadata": {
        "id": "LJ1ivIlWB6xW",
        "colab_type": "code",
        "colab": {
          "base_uri": "https://localhost:8080/",
          "height": 304
        },
        "outputId": "fbd90eb3-bbe0-42e1-99ad-06112026c6cf"
      },
      "source": [
        "# Code Here\n",
        "data = pd.merge(df_food, df_protein, on='Country', how='outer', suffixes=('_food', '_protein'))\n",
        "data1 = pd.merge(data,df_fat, on='Country', how='outer')\n",
        "data1.head()"
      ],
      "execution_count": 5,
      "outputs": [
        {
          "output_type": "execute_result",
          "data": {
            "text/html": [
              "<div>\n",
              "<style scoped>\n",
              "    .dataframe tbody tr th:only-of-type {\n",
              "        vertical-align: middle;\n",
              "    }\n",
              "\n",
              "    .dataframe tbody tr th {\n",
              "        vertical-align: top;\n",
              "    }\n",
              "\n",
              "    .dataframe thead th {\n",
              "        text-align: right;\n",
              "    }\n",
              "</style>\n",
              "<table border=\"1\" class=\"dataframe\">\n",
              "  <thead>\n",
              "    <tr style=\"text-align: right;\">\n",
              "      <th></th>\n",
              "      <th>Country</th>\n",
              "      <th>Alcoholic Beverages_food</th>\n",
              "      <th>Animal fats_food</th>\n",
              "      <th>Animal Products_food</th>\n",
              "      <th>Aquatic Products, Other_food</th>\n",
              "      <th>Cereals - Excluding Beer_food</th>\n",
              "      <th>Eggs_food</th>\n",
              "      <th>Fish, Seafood_food</th>\n",
              "      <th>Fruits - Excluding Wine_food</th>\n",
              "      <th>Meat_food</th>\n",
              "      <th>Milk - Excluding Butter_food</th>\n",
              "      <th>Miscellaneous_food</th>\n",
              "      <th>Offals_food</th>\n",
              "      <th>Oilcrops_food</th>\n",
              "      <th>Pulses_food</th>\n",
              "      <th>Spices_food</th>\n",
              "      <th>Starchy Roots_food</th>\n",
              "      <th>Stimulants_food</th>\n",
              "      <th>Sugar &amp; Sweeteners_food</th>\n",
              "      <th>Sugar Crops_food</th>\n",
              "      <th>Treenuts_food</th>\n",
              "      <th>Vegetable Oils_food</th>\n",
              "      <th>Vegetables_food</th>\n",
              "      <th>Vegetal Products_food</th>\n",
              "      <th>Obesity_food</th>\n",
              "      <th>Undernourished_food</th>\n",
              "      <th>Confirmed_food</th>\n",
              "      <th>Deaths_food</th>\n",
              "      <th>Recovered_food</th>\n",
              "      <th>Active_food</th>\n",
              "      <th>Population_food</th>\n",
              "      <th>Unit (all except Population)_food</th>\n",
              "      <th>Alcoholic Beverages_protein</th>\n",
              "      <th>Animal Products_protein</th>\n",
              "      <th>Animal fats_protein</th>\n",
              "      <th>Aquatic Products, Other_protein</th>\n",
              "      <th>Cereals - Excluding Beer_protein</th>\n",
              "      <th>Eggs_protein</th>\n",
              "      <th>Fish, Seafood_protein</th>\n",
              "      <th>Fruits - Excluding Wine_protein</th>\n",
              "      <th>...</th>\n",
              "      <th>Miscellaneous_protein</th>\n",
              "      <th>Obesity_protein</th>\n",
              "      <th>Undernourished_protein</th>\n",
              "      <th>Confirmed_protein</th>\n",
              "      <th>Deaths_protein</th>\n",
              "      <th>Recovered_protein</th>\n",
              "      <th>Active_protein</th>\n",
              "      <th>Population_protein</th>\n",
              "      <th>Unit (all except Population)_protein</th>\n",
              "      <th>Alcoholic Beverages</th>\n",
              "      <th>Animal Products</th>\n",
              "      <th>Animal fats</th>\n",
              "      <th>Aquatic Products, Other</th>\n",
              "      <th>Cereals - Excluding Beer</th>\n",
              "      <th>Eggs</th>\n",
              "      <th>Fish, Seafood</th>\n",
              "      <th>Fruits - Excluding Wine</th>\n",
              "      <th>Meat</th>\n",
              "      <th>Miscellaneous</th>\n",
              "      <th>Milk - Excluding Butter</th>\n",
              "      <th>Offals</th>\n",
              "      <th>Oilcrops</th>\n",
              "      <th>Pulses</th>\n",
              "      <th>Spices</th>\n",
              "      <th>Starchy Roots</th>\n",
              "      <th>Stimulants</th>\n",
              "      <th>Sugar Crops</th>\n",
              "      <th>Sugar &amp; Sweeteners</th>\n",
              "      <th>Treenuts</th>\n",
              "      <th>Vegetal Products</th>\n",
              "      <th>Vegetable Oils</th>\n",
              "      <th>Vegetables</th>\n",
              "      <th>Obesity</th>\n",
              "      <th>Undernourished</th>\n",
              "      <th>Confirmed</th>\n",
              "      <th>Deaths</th>\n",
              "      <th>Recovered</th>\n",
              "      <th>Active</th>\n",
              "      <th>Population</th>\n",
              "      <th>Unit (all except Population)</th>\n",
              "    </tr>\n",
              "  </thead>\n",
              "  <tbody>\n",
              "    <tr>\n",
              "      <th>0</th>\n",
              "      <td>Afghanistan</td>\n",
              "      <td>0.0014</td>\n",
              "      <td>0.1973</td>\n",
              "      <td>9.4341</td>\n",
              "      <td>0.0</td>\n",
              "      <td>24.8097</td>\n",
              "      <td>0.2099</td>\n",
              "      <td>0.0350</td>\n",
              "      <td>5.3495</td>\n",
              "      <td>1.2020</td>\n",
              "      <td>7.5828</td>\n",
              "      <td>0.0728</td>\n",
              "      <td>0.2057</td>\n",
              "      <td>0.0700</td>\n",
              "      <td>0.2953</td>\n",
              "      <td>0.0574</td>\n",
              "      <td>0.8802</td>\n",
              "      <td>0.3078</td>\n",
              "      <td>1.3489</td>\n",
              "      <td>0.0</td>\n",
              "      <td>0.0770</td>\n",
              "      <td>0.5345</td>\n",
              "      <td>6.7642</td>\n",
              "      <td>40.5645</td>\n",
              "      <td>4.5</td>\n",
              "      <td>29.8</td>\n",
              "      <td>0.008475</td>\n",
              "      <td>0.000250</td>\n",
              "      <td>0.001107</td>\n",
              "      <td>0.007118</td>\n",
              "      <td>38042000.0</td>\n",
              "      <td>%</td>\n",
              "      <td>0.0000</td>\n",
              "      <td>9.7523</td>\n",
              "      <td>0.0277</td>\n",
              "      <td>0.0</td>\n",
              "      <td>35.9771</td>\n",
              "      <td>0.4067</td>\n",
              "      <td>0.0647</td>\n",
              "      <td>0.5824</td>\n",
              "      <td>...</td>\n",
              "      <td>0.0462</td>\n",
              "      <td>4.5</td>\n",
              "      <td>29.8</td>\n",
              "      <td>0.008475</td>\n",
              "      <td>0.000250</td>\n",
              "      <td>0.001107</td>\n",
              "      <td>0.007118</td>\n",
              "      <td>38042000.0</td>\n",
              "      <td>%</td>\n",
              "      <td>0.0</td>\n",
              "      <td>21.6397</td>\n",
              "      <td>6.2224</td>\n",
              "      <td>0.0</td>\n",
              "      <td>8.0353</td>\n",
              "      <td>0.6859</td>\n",
              "      <td>0.0327</td>\n",
              "      <td>0.4246</td>\n",
              "      <td>6.1244</td>\n",
              "      <td>0.0163</td>\n",
              "      <td>8.2803</td>\n",
              "      <td>0.3103</td>\n",
              "      <td>1.0452</td>\n",
              "      <td>0.1960</td>\n",
              "      <td>0.2776</td>\n",
              "      <td>0.0490</td>\n",
              "      <td>0.0980</td>\n",
              "      <td>0.0</td>\n",
              "      <td>0.0</td>\n",
              "      <td>0.7513</td>\n",
              "      <td>28.3684</td>\n",
              "      <td>17.0831</td>\n",
              "      <td>0.3593</td>\n",
              "      <td>4.5</td>\n",
              "      <td>29.8</td>\n",
              "      <td>0.008475</td>\n",
              "      <td>0.000250</td>\n",
              "      <td>0.001107</td>\n",
              "      <td>0.007118</td>\n",
              "      <td>38042000.0</td>\n",
              "      <td>%</td>\n",
              "    </tr>\n",
              "    <tr>\n",
              "      <th>1</th>\n",
              "      <td>Albania</td>\n",
              "      <td>1.6719</td>\n",
              "      <td>0.1357</td>\n",
              "      <td>18.7684</td>\n",
              "      <td>0.0</td>\n",
              "      <td>5.7817</td>\n",
              "      <td>0.5815</td>\n",
              "      <td>0.2126</td>\n",
              "      <td>6.7861</td>\n",
              "      <td>1.8845</td>\n",
              "      <td>15.7213</td>\n",
              "      <td>0.1123</td>\n",
              "      <td>0.2324</td>\n",
              "      <td>0.9377</td>\n",
              "      <td>0.2380</td>\n",
              "      <td>0.0008</td>\n",
              "      <td>1.8096</td>\n",
              "      <td>0.1055</td>\n",
              "      <td>1.5367</td>\n",
              "      <td>0.0</td>\n",
              "      <td>0.1515</td>\n",
              "      <td>0.3261</td>\n",
              "      <td>11.7753</td>\n",
              "      <td>31.2304</td>\n",
              "      <td>22.3</td>\n",
              "      <td>6.2</td>\n",
              "      <td>0.028691</td>\n",
              "      <td>0.001085</td>\n",
              "      <td>0.019944</td>\n",
              "      <td>0.007663</td>\n",
              "      <td>2858000.0</td>\n",
              "      <td>%</td>\n",
              "      <td>0.1840</td>\n",
              "      <td>27.7469</td>\n",
              "      <td>0.0711</td>\n",
              "      <td>0.0</td>\n",
              "      <td>14.2331</td>\n",
              "      <td>1.8069</td>\n",
              "      <td>0.6274</td>\n",
              "      <td>1.2757</td>\n",
              "      <td>...</td>\n",
              "      <td>0.0544</td>\n",
              "      <td>22.3</td>\n",
              "      <td>6.2</td>\n",
              "      <td>0.028691</td>\n",
              "      <td>0.001085</td>\n",
              "      <td>0.019944</td>\n",
              "      <td>0.007663</td>\n",
              "      <td>2858000.0</td>\n",
              "      <td>%</td>\n",
              "      <td>0.0</td>\n",
              "      <td>32.0002</td>\n",
              "      <td>3.4172</td>\n",
              "      <td>0.0</td>\n",
              "      <td>2.6734</td>\n",
              "      <td>1.6448</td>\n",
              "      <td>0.1445</td>\n",
              "      <td>0.6418</td>\n",
              "      <td>8.7428</td>\n",
              "      <td>0.0170</td>\n",
              "      <td>17.7576</td>\n",
              "      <td>0.2933</td>\n",
              "      <td>3.1622</td>\n",
              "      <td>0.1148</td>\n",
              "      <td>0.0000</td>\n",
              "      <td>0.0510</td>\n",
              "      <td>0.5270</td>\n",
              "      <td>0.0</td>\n",
              "      <td>0.0</td>\n",
              "      <td>0.9181</td>\n",
              "      <td>17.9998</td>\n",
              "      <td>9.2443</td>\n",
              "      <td>0.6503</td>\n",
              "      <td>22.3</td>\n",
              "      <td>6.2</td>\n",
              "      <td>0.028691</td>\n",
              "      <td>0.001085</td>\n",
              "      <td>0.019944</td>\n",
              "      <td>0.007663</td>\n",
              "      <td>2858000.0</td>\n",
              "      <td>%</td>\n",
              "    </tr>\n",
              "    <tr>\n",
              "      <th>2</th>\n",
              "      <td>Algeria</td>\n",
              "      <td>0.2711</td>\n",
              "      <td>0.0282</td>\n",
              "      <td>9.6334</td>\n",
              "      <td>0.0</td>\n",
              "      <td>13.6816</td>\n",
              "      <td>0.5277</td>\n",
              "      <td>0.2416</td>\n",
              "      <td>6.3801</td>\n",
              "      <td>1.1305</td>\n",
              "      <td>7.6189</td>\n",
              "      <td>0.1671</td>\n",
              "      <td>0.0870</td>\n",
              "      <td>0.3493</td>\n",
              "      <td>0.4783</td>\n",
              "      <td>0.0557</td>\n",
              "      <td>4.1340</td>\n",
              "      <td>0.2216</td>\n",
              "      <td>1.8342</td>\n",
              "      <td>0.0</td>\n",
              "      <td>0.1152</td>\n",
              "      <td>1.0310</td>\n",
              "      <td>11.6484</td>\n",
              "      <td>40.3651</td>\n",
              "      <td>26.6</td>\n",
              "      <td>3.9</td>\n",
              "      <td>0.011146</td>\n",
              "      <td>0.001083</td>\n",
              "      <td>0.004762</td>\n",
              "      <td>0.005301</td>\n",
              "      <td>43406000.0</td>\n",
              "      <td>%</td>\n",
              "      <td>0.0323</td>\n",
              "      <td>13.8360</td>\n",
              "      <td>0.0054</td>\n",
              "      <td>0.0</td>\n",
              "      <td>26.5633</td>\n",
              "      <td>1.2916</td>\n",
              "      <td>0.6350</td>\n",
              "      <td>1.1624</td>\n",
              "      <td>...</td>\n",
              "      <td>0.1399</td>\n",
              "      <td>26.6</td>\n",
              "      <td>3.9</td>\n",
              "      <td>0.011146</td>\n",
              "      <td>0.001083</td>\n",
              "      <td>0.004762</td>\n",
              "      <td>0.005301</td>\n",
              "      <td>43406000.0</td>\n",
              "      <td>%</td>\n",
              "      <td>0.0</td>\n",
              "      <td>14.4175</td>\n",
              "      <td>0.8972</td>\n",
              "      <td>0.0</td>\n",
              "      <td>4.2035</td>\n",
              "      <td>1.2171</td>\n",
              "      <td>0.2008</td>\n",
              "      <td>0.5772</td>\n",
              "      <td>3.8961</td>\n",
              "      <td>0.0439</td>\n",
              "      <td>8.0934</td>\n",
              "      <td>0.1067</td>\n",
              "      <td>1.1983</td>\n",
              "      <td>0.2698</td>\n",
              "      <td>0.1568</td>\n",
              "      <td>0.1129</td>\n",
              "      <td>0.2886</td>\n",
              "      <td>0.0</td>\n",
              "      <td>0.0</td>\n",
              "      <td>0.8595</td>\n",
              "      <td>35.5857</td>\n",
              "      <td>27.3606</td>\n",
              "      <td>0.5145</td>\n",
              "      <td>26.6</td>\n",
              "      <td>3.9</td>\n",
              "      <td>0.011146</td>\n",
              "      <td>0.001083</td>\n",
              "      <td>0.004762</td>\n",
              "      <td>0.005301</td>\n",
              "      <td>43406000.0</td>\n",
              "      <td>%</td>\n",
              "    </tr>\n",
              "    <tr>\n",
              "      <th>3</th>\n",
              "      <td>Angola</td>\n",
              "      <td>5.8087</td>\n",
              "      <td>0.0560</td>\n",
              "      <td>4.9278</td>\n",
              "      <td>0.0</td>\n",
              "      <td>9.1085</td>\n",
              "      <td>0.0587</td>\n",
              "      <td>1.7707</td>\n",
              "      <td>6.0005</td>\n",
              "      <td>2.0571</td>\n",
              "      <td>0.8311</td>\n",
              "      <td>0.1165</td>\n",
              "      <td>0.1550</td>\n",
              "      <td>0.4186</td>\n",
              "      <td>0.6507</td>\n",
              "      <td>0.0009</td>\n",
              "      <td>18.1102</td>\n",
              "      <td>0.0508</td>\n",
              "      <td>1.8495</td>\n",
              "      <td>0.0</td>\n",
              "      <td>0.0061</td>\n",
              "      <td>0.6463</td>\n",
              "      <td>2.3041</td>\n",
              "      <td>45.0722</td>\n",
              "      <td>6.8</td>\n",
              "      <td>25</td>\n",
              "      <td>0.000115</td>\n",
              "      <td>0.000006</td>\n",
              "      <td>0.000035</td>\n",
              "      <td>0.000073</td>\n",
              "      <td>31427000.0</td>\n",
              "      <td>%</td>\n",
              "      <td>0.6285</td>\n",
              "      <td>15.2311</td>\n",
              "      <td>0.0277</td>\n",
              "      <td>0.0</td>\n",
              "      <td>20.3882</td>\n",
              "      <td>0.1756</td>\n",
              "      <td>5.4436</td>\n",
              "      <td>1.2754</td>\n",
              "      <td>...</td>\n",
              "      <td>0.0924</td>\n",
              "      <td>6.8</td>\n",
              "      <td>25</td>\n",
              "      <td>0.000115</td>\n",
              "      <td>0.000006</td>\n",
              "      <td>0.000035</td>\n",
              "      <td>0.000073</td>\n",
              "      <td>31427000.0</td>\n",
              "      <td>%</td>\n",
              "      <td>0.0</td>\n",
              "      <td>15.3041</td>\n",
              "      <td>1.3130</td>\n",
              "      <td>0.0</td>\n",
              "      <td>6.5545</td>\n",
              "      <td>0.1539</td>\n",
              "      <td>1.4155</td>\n",
              "      <td>0.3488</td>\n",
              "      <td>11.0268</td>\n",
              "      <td>0.0308</td>\n",
              "      <td>1.2309</td>\n",
              "      <td>0.1539</td>\n",
              "      <td>3.9902</td>\n",
              "      <td>0.3282</td>\n",
              "      <td>0.0103</td>\n",
              "      <td>0.7078</td>\n",
              "      <td>0.1128</td>\n",
              "      <td>0.0</td>\n",
              "      <td>0.0</td>\n",
              "      <td>0.0308</td>\n",
              "      <td>34.7010</td>\n",
              "      <td>22.4638</td>\n",
              "      <td>0.1231</td>\n",
              "      <td>6.8</td>\n",
              "      <td>25</td>\n",
              "      <td>0.000115</td>\n",
              "      <td>0.000006</td>\n",
              "      <td>0.000035</td>\n",
              "      <td>0.000073</td>\n",
              "      <td>31427000.0</td>\n",
              "      <td>%</td>\n",
              "    </tr>\n",
              "    <tr>\n",
              "      <th>4</th>\n",
              "      <td>Antigua and Barbuda</td>\n",
              "      <td>3.5764</td>\n",
              "      <td>0.0087</td>\n",
              "      <td>16.6613</td>\n",
              "      <td>0.0</td>\n",
              "      <td>5.9960</td>\n",
              "      <td>0.2274</td>\n",
              "      <td>4.1489</td>\n",
              "      <td>10.7451</td>\n",
              "      <td>5.6888</td>\n",
              "      <td>6.3663</td>\n",
              "      <td>0.7139</td>\n",
              "      <td>0.2219</td>\n",
              "      <td>0.2172</td>\n",
              "      <td>0.1840</td>\n",
              "      <td>0.1524</td>\n",
              "      <td>1.4522</td>\n",
              "      <td>0.1564</td>\n",
              "      <td>3.8749</td>\n",
              "      <td>0.0</td>\n",
              "      <td>0.0253</td>\n",
              "      <td>0.8102</td>\n",
              "      <td>5.4495</td>\n",
              "      <td>33.3233</td>\n",
              "      <td>19.1</td>\n",
              "      <td>NaN</td>\n",
              "      <td>0.025773</td>\n",
              "      <td>0.003093</td>\n",
              "      <td>0.016495</td>\n",
              "      <td>0.006186</td>\n",
              "      <td>97000.0</td>\n",
              "      <td>%</td>\n",
              "      <td>0.1535</td>\n",
              "      <td>33.1901</td>\n",
              "      <td>0.1289</td>\n",
              "      <td>0.0</td>\n",
              "      <td>10.5108</td>\n",
              "      <td>0.4850</td>\n",
              "      <td>8.2146</td>\n",
              "      <td>1.2586</td>\n",
              "      <td>...</td>\n",
              "      <td>0.2947</td>\n",
              "      <td>19.1</td>\n",
              "      <td>NaN</td>\n",
              "      <td>0.025773</td>\n",
              "      <td>0.003093</td>\n",
              "      <td>0.016495</td>\n",
              "      <td>0.006186</td>\n",
              "      <td>97000.0</td>\n",
              "      <td>%</td>\n",
              "      <td>0.0</td>\n",
              "      <td>27.7033</td>\n",
              "      <td>4.6686</td>\n",
              "      <td>0.0</td>\n",
              "      <td>3.2153</td>\n",
              "      <td>0.3872</td>\n",
              "      <td>1.5263</td>\n",
              "      <td>1.2177</td>\n",
              "      <td>14.3202</td>\n",
              "      <td>0.0898</td>\n",
              "      <td>6.6607</td>\n",
              "      <td>0.1347</td>\n",
              "      <td>1.3579</td>\n",
              "      <td>0.0673</td>\n",
              "      <td>0.3591</td>\n",
              "      <td>0.0449</td>\n",
              "      <td>1.0549</td>\n",
              "      <td>0.0</td>\n",
              "      <td>0.0</td>\n",
              "      <td>0.2020</td>\n",
              "      <td>22.2995</td>\n",
              "      <td>14.4436</td>\n",
              "      <td>0.2469</td>\n",
              "      <td>19.1</td>\n",
              "      <td>NaN</td>\n",
              "      <td>0.025773</td>\n",
              "      <td>0.003093</td>\n",
              "      <td>0.016495</td>\n",
              "      <td>0.006186</td>\n",
              "      <td>97000.0</td>\n",
              "      <td>%</td>\n",
              "    </tr>\n",
              "  </tbody>\n",
              "</table>\n",
              "<p>5 rows × 94 columns</p>\n",
              "</div>"
            ],
            "text/plain": [
              "               Country  ...  Unit (all except Population)\n",
              "0          Afghanistan  ...                             %\n",
              "1              Albania  ...                             %\n",
              "2              Algeria  ...                             %\n",
              "3               Angola  ...                             %\n",
              "4  Antigua and Barbuda  ...                             %\n",
              "\n",
              "[5 rows x 94 columns]"
            ]
          },
          "metadata": {
            "tags": []
          },
          "execution_count": 5
        }
      ]
    },
    {
      "cell_type": "code",
      "metadata": {
        "id": "R-IsKhRvxKBB",
        "colab_type": "code",
        "colab": {
          "base_uri": "https://localhost:8080/",
          "height": 646
        },
        "outputId": "092f71f0-41e9-48ca-fd71-0e4de4d218de"
      },
      "source": [
        "data1.axes"
      ],
      "execution_count": 6,
      "outputs": [
        {
          "output_type": "execute_result",
          "data": {
            "text/plain": [
              "[Int64Index([  0,   1,   2,   3,   4,   5,   6,   7,   8,   9,\n",
              "             ...\n",
              "             160, 161, 162, 163, 164, 165, 166, 167, 168, 169],\n",
              "            dtype='int64', length=170),\n",
              " Index(['Country', 'Alcoholic Beverages_food', 'Animal fats_food',\n",
              "        'Animal Products_food', 'Aquatic Products, Other_food',\n",
              "        'Cereals - Excluding Beer_food', 'Eggs_food', 'Fish, Seafood_food',\n",
              "        'Fruits - Excluding Wine_food', 'Meat_food',\n",
              "        'Milk - Excluding Butter_food', 'Miscellaneous_food', 'Offals_food',\n",
              "        'Oilcrops_food', 'Pulses_food', 'Spices_food', 'Starchy Roots_food',\n",
              "        'Stimulants_food', 'Sugar & Sweeteners_food', 'Sugar Crops_food',\n",
              "        'Treenuts_food', 'Vegetable Oils_food', 'Vegetables_food',\n",
              "        'Vegetal Products_food', 'Obesity_food', 'Undernourished_food',\n",
              "        'Confirmed_food', 'Deaths_food', 'Recovered_food', 'Active_food',\n",
              "        'Population_food', 'Unit (all except Population)_food',\n",
              "        'Alcoholic Beverages_protein', 'Animal Products_protein',\n",
              "        'Animal fats_protein', 'Aquatic Products, Other_protein',\n",
              "        'Cereals - Excluding Beer_protein', 'Eggs_protein',\n",
              "        'Fish, Seafood_protein', 'Fruits - Excluding Wine_protein',\n",
              "        'Meat_protein', 'Milk - Excluding Butter_protein', 'Offals_protein',\n",
              "        'Oilcrops_protein', 'Pulses_protein', 'Spices_protein',\n",
              "        'Starchy Roots_protein', 'Stimulants_protein', 'Sugar Crops_protein',\n",
              "        'Sugar & Sweeteners_protein', 'Treenuts_protein',\n",
              "        'Vegetal Products_protein', 'Vegetable Oils_protein',\n",
              "        'Vegetables_protein', 'Miscellaneous_protein', 'Obesity_protein',\n",
              "        'Undernourished_protein', 'Confirmed_protein', 'Deaths_protein',\n",
              "        'Recovered_protein', 'Active_protein', 'Population_protein',\n",
              "        'Unit (all except Population)_protein', 'Alcoholic Beverages',\n",
              "        'Animal Products', 'Animal fats', 'Aquatic Products, Other',\n",
              "        'Cereals - Excluding Beer', 'Eggs', 'Fish, Seafood',\n",
              "        'Fruits - Excluding Wine', 'Meat', 'Miscellaneous',\n",
              "        'Milk - Excluding Butter', 'Offals', 'Oilcrops', 'Pulses', 'Spices',\n",
              "        'Starchy Roots', 'Stimulants', 'Sugar Crops', 'Sugar & Sweeteners',\n",
              "        'Treenuts', 'Vegetal Products', 'Vegetable Oils', 'Vegetables',\n",
              "        'Obesity', 'Undernourished', 'Confirmed', 'Deaths', 'Recovered',\n",
              "        'Active', 'Population', 'Unit (all except Population)'],\n",
              "       dtype='object')]"
            ]
          },
          "metadata": {
            "tags": []
          },
          "execution_count": 6
        }
      ]
    },
    {
      "cell_type": "markdown",
      "metadata": {
        "id": "pegkuXiNB6xj",
        "colab_type": "text"
      },
      "source": [
        "<h2>3. Pandas Quiz: Sorting and Filtering </h2>"
      ]
    },
    {
      "cell_type": "markdown",
      "metadata": {
        "id": "W4gNA0ZBB6xm",
        "colab_type": "text"
      },
      "source": [
        "Buatlah sebuah data atau gunakan data gabungan dari soal no.2, dimana data ini di sort dari yang terbesar ke yang terkecil berdasarkan column Obesitas.\n",
        "\n",
        "Kemudian Lakukan Perintah Berikut :\n",
        "\n",
        "- print data hasil sorting\n",
        "- Berapa persen jumlah obesitas di Indonesia berdasarkan populasinya? kemudian tunjukan cara mendapatkannya!\n",
        "- Urutan ke berapakah Indonesia mengenai proposi penduduk yang obesitas berdasarkan total populasinya dari yang terbesar? kemudian tunjukan cara mendapatkannya! "
      ]
    },
    {
      "cell_type": "code",
      "metadata": {
        "id": "tHZDS4QTB6xo",
        "colab_type": "code",
        "colab": {}
      },
      "source": [
        "# print Hasil Sorting\n"
      ],
      "execution_count": 0,
      "outputs": []
    },
    {
      "cell_type": "code",
      "metadata": {
        "id": "Ddz7bWTkB6x9",
        "colab_type": "code",
        "colab": {}
      },
      "source": [
        "# code untuk mendapatkan nilai proporsi obesitas di Indonesia\n"
      ],
      "execution_count": 0,
      "outputs": []
    },
    {
      "cell_type": "code",
      "metadata": {
        "id": "FHA6R7jzB6yM",
        "colab_type": "code",
        "colab": {}
      },
      "source": [
        "# code untuk mendapatkan urutan indoensia mengenai proposi obesitas dari terbesar\n"
      ],
      "execution_count": 0,
      "outputs": []
    },
    {
      "cell_type": "markdown",
      "metadata": {
        "id": "-67mnOAPB6ym",
        "colab_type": "text"
      },
      "source": [
        "<h2>4. Pandas Quiz: Binning Data, Grouping, dan Aggregating </h2>"
      ]
    },
    {
      "cell_type": "markdown",
      "metadata": {
        "id": "QqGWcJVGB6yp",
        "colab_type": "text"
      },
      "source": [
        "Binning data Terkonfirmasi COVID-19 (column Confirmed) dari data food supply menjadi 5 bagian berdasarkan quartile. kalian dapat menggunakan fungsi qcut untuk melakukan bininng ini. Masukan data hasil binning tersebut menjadi column baru untuk data food supply. misalkan beri nama column tersebut dengan 'Confirmed Category'. Berikan label 'Sangat Tidak Banyak', 'Tidak Banyak', 'Sedang', 'Cukup Banyak', 'Sangat Banyak'. untuk masing-masing binning dari interval yang memiliki nilai terkecil sampai yang terbesar\n",
        "\n",
        "Baca dokumentasi berikut untuk fungsi qcut : https://pandas.pydata.org/pandas-docs/stable/reference/api/pandas.qcut.html\n",
        "\n",
        "- Buat data baru yang berupa data grouping semua data berdasarkan column Hasil Bininng atau column 'Confirmed Category'.\n",
        "- Grouping hanya column 'Obesity', 'Meat', 'Fruits - Excluding Wine', 'Fish, Seafood', 'Animal Products', 'Vegetal Products' saja.\n",
        "- Kemudian Aggregate dengan fungsi mean.\n",
        "\n",
        "Expected Output :\n",
        "\n",
        "![alt text](https://drive.google.com/uc?id=1LZIgWZqDTl2WGBjS_M1nAqNGFTTmqC0Q)"
      ]
    },
    {
      "cell_type": "code",
      "metadata": {
        "id": "V2EmtMsDB6yr",
        "colab_type": "code",
        "colab": {}
      },
      "source": [
        "# Code Here\n"
      ],
      "execution_count": 0,
      "outputs": []
    },
    {
      "cell_type": "code",
      "metadata": {
        "id": "S8hIJSqdB6y7",
        "colab_type": "code",
        "colab": {}
      },
      "source": [
        "group_by_confirmed.to_csv('groupby_confirmed.csv')"
      ],
      "execution_count": 0,
      "outputs": []
    },
    {
      "cell_type": "markdown",
      "metadata": {
        "id": "aCVBOuCZB6zL",
        "colab_type": "text"
      },
      "source": [
        "<h2>5. Matplotlib Visualization: Bar plot </h2>\n",
        "\n",
        "Gunakan data grouping pada soal sebelumnya untuk melakukan visualisasi. jika kalian tidak dapat menyelesaikan soal tersebut, maka silahkan download data berikut yang merupakan hasil dari data grouping.\n",
        "\n",
        "[Download](https://drive.google.com/uc?export=download&id=1ZHnO7O4yRUMiPmsX5zB_S_oB-w8lD1Yf)\n",
        "\n",
        "Normalisasi data hasil grouping tersebut dengan rumus min-max normalisasi seperti di gambar. Kemudian buatlah grouping Visualization dengan berplot, visualisasikan data column 'Obesity', 'Fruits - Excluding Wine', 'Fish, Seafood', 'Animal Products' dan 'Vegetal Products'. \n",
        "\n",
        "Expected Output yang di hasilkan seperti gambar berikut.\n",
        "\n",
        "![alt text](https://drive.google.com/uc?id=1v7aJMCeD_sUaZ0WQaQzAxCTy_EUJ7E4M)"
      ]
    },
    {
      "cell_type": "markdown",
      "metadata": {
        "id": "8BDrUwc6B6zN",
        "colab_type": "text"
      },
      "source": [
        "## Rumus Normalisasi\n",
        "\n",
        "![alt text](https://drive.google.com/uc?id=1_1ueCPAPC1ialSsfQQ9Wm_TmGP9u-kEo)"
      ]
    },
    {
      "cell_type": "markdown",
      "metadata": {
        "id": "GNwgeySvB6zQ",
        "colab_type": "text"
      },
      "source": [
        "## Expected Ouput Data Hasil Normalisasi\n",
        "\n",
        "![alt text](https://drive.google.com/uc?id=1Y7X46acxUUSSByjsL99LMurNF8018Zbv)"
      ]
    },
    {
      "cell_type": "code",
      "metadata": {
        "id": "3HxIw3RDB6zV",
        "colab_type": "code",
        "colab": {
          "base_uri": "https://localhost:8080/",
          "height": 235
        },
        "outputId": "2914c33a-8ee2-40ac-a892-bd5429da4824"
      },
      "source": [
        "# Code Here\n",
        "data4 = pd.read_csv('groupby_confirmed.csv').set_index('Confirmed Category')\n",
        "minimum = data4.min()\n",
        "maksimum = data4.max()\n",
        "\n",
        "new = (data4 - minimum)/(maksimum-minimum)\n",
        "new"
      ],
      "execution_count": 7,
      "outputs": [
        {
          "output_type": "execute_result",
          "data": {
            "text/html": [
              "<div>\n",
              "<style scoped>\n",
              "    .dataframe tbody tr th:only-of-type {\n",
              "        vertical-align: middle;\n",
              "    }\n",
              "\n",
              "    .dataframe tbody tr th {\n",
              "        vertical-align: top;\n",
              "    }\n",
              "\n",
              "    .dataframe thead th {\n",
              "        text-align: right;\n",
              "    }\n",
              "</style>\n",
              "<table border=\"1\" class=\"dataframe\">\n",
              "  <thead>\n",
              "    <tr style=\"text-align: right;\">\n",
              "      <th></th>\n",
              "      <th>Obesity</th>\n",
              "      <th>Meat</th>\n",
              "      <th>Fruits - Excluding Wine</th>\n",
              "      <th>Fish, Seafood</th>\n",
              "      <th>Animal Products</th>\n",
              "      <th>Vegetal Products</th>\n",
              "    </tr>\n",
              "    <tr>\n",
              "      <th>Confirmed Category</th>\n",
              "      <th></th>\n",
              "      <th></th>\n",
              "      <th></th>\n",
              "      <th></th>\n",
              "      <th></th>\n",
              "      <th></th>\n",
              "    </tr>\n",
              "  </thead>\n",
              "  <tbody>\n",
              "    <tr>\n",
              "      <th>Sangat Tidak Banyak</th>\n",
              "      <td>0.000000</td>\n",
              "      <td>0.070203</td>\n",
              "      <td>0.000000</td>\n",
              "      <td>0.000000</td>\n",
              "      <td>0.000000</td>\n",
              "      <td>1.000000</td>\n",
              "    </tr>\n",
              "    <tr>\n",
              "      <th>Tidak Banyak</th>\n",
              "      <td>0.241866</td>\n",
              "      <td>0.000000</td>\n",
              "      <td>0.401324</td>\n",
              "      <td>0.660219</td>\n",
              "      <td>0.029487</td>\n",
              "      <td>0.970516</td>\n",
              "    </tr>\n",
              "    <tr>\n",
              "      <th>Sedang</th>\n",
              "      <td>0.726771</td>\n",
              "      <td>0.799348</td>\n",
              "      <td>1.000000</td>\n",
              "      <td>0.363049</td>\n",
              "      <td>0.445126</td>\n",
              "      <td>0.554882</td>\n",
              "    </tr>\n",
              "    <tr>\n",
              "      <th>Cukup Banyak</th>\n",
              "      <td>0.901272</td>\n",
              "      <td>1.000000</td>\n",
              "      <td>0.500284</td>\n",
              "      <td>1.000000</td>\n",
              "      <td>0.854571</td>\n",
              "      <td>0.145628</td>\n",
              "    </tr>\n",
              "    <tr>\n",
              "      <th>Sangat Banyak</th>\n",
              "      <td>1.000000</td>\n",
              "      <td>0.988665</td>\n",
              "      <td>0.194716</td>\n",
              "      <td>0.544864</td>\n",
              "      <td>1.000000</td>\n",
              "      <td>0.000000</td>\n",
              "    </tr>\n",
              "  </tbody>\n",
              "</table>\n",
              "</div>"
            ],
            "text/plain": [
              "                      Obesity      Meat  ...  Animal Products  Vegetal Products\n",
              "Confirmed Category                       ...                                   \n",
              "Sangat Tidak Banyak  0.000000  0.070203  ...         0.000000          1.000000\n",
              "Tidak Banyak         0.241866  0.000000  ...         0.029487          0.970516\n",
              "Sedang               0.726771  0.799348  ...         0.445126          0.554882\n",
              "Cukup Banyak         0.901272  1.000000  ...         0.854571          0.145628\n",
              "Sangat Banyak        1.000000  0.988665  ...         1.000000          0.000000\n",
              "\n",
              "[5 rows x 6 columns]"
            ]
          },
          "metadata": {
            "tags": []
          },
          "execution_count": 7
        }
      ]
    },
    {
      "cell_type": "code",
      "metadata": {
        "id": "9-AUY8j9xUTo",
        "colab_type": "code",
        "colab": {
          "base_uri": "https://localhost:8080/",
          "height": 607
        },
        "outputId": "2986d101-856a-49fb-b76b-7d851e0d8302"
      },
      "source": [
        "index = ['Obesity','Meat','Fruits - Excluding Wine','Fish, Seafood','Animal Products','Vegetal Products']\n",
        "\n",
        "fig, ax = plt.subplots(figsize=(20,10))\n",
        "\n",
        "x = np.arange(0,12,2)\n",
        "\n",
        "width = 0.3\n",
        "\n",
        "ax.bar(x, new.loc['Sangat Tidak Banyak'], width=0.3, color='#E24A33', label='Sangat Tidak Banyak')\n",
        "ax.bar(x+width, new.loc['Tidak Banyak'], width=0.3, color='#348ABD', label='Tidak Banyak')\n",
        "ax.bar(x+width*2, new.loc['Sedang'], width=0.3, color='#988ED5', label='Sedang')\n",
        "ax.bar(x+width*3, new.loc['Cukup Banyak'], width=0.3, color='#777777', label='Cukup Banyak')\n",
        "ax.bar(x+width*4, new.loc['Sangat Banyak'], width=0.3, color='#FBC15E', label='Sangat Banya')\n",
        "\n",
        "# inserting x axis label\n",
        "plt.xticks(x+0.5,list(index))\n",
        "ax.set_xticklabels(index)\n",
        "\n",
        "# menambah axis label dan title\n",
        "ax.set_title('Perbandingan konsumsi makanan berdasarkan Tingkat kasus COVID--19')\n",
        "\n",
        "plt.legend()\n",
        "plt.show()"
      ],
      "execution_count": 8,
      "outputs": [
        {
          "output_type": "display_data",
          "data": {
            "image/png": "[encoded data removed]",
            "text/plain": [
              "<Figure size 1440x720 with 1 Axes>"
            ]
          },
          "metadata": {
            "tags": [],
            "needs_background": "light"
          }
        }
      ]
    },
    {
      "cell_type": "markdown",
      "metadata": {
        "id": "M-Wd3_hOB6zu",
        "colab_type": "text"
      },
      "source": [
        "<h2>6. Matplotlib Visualization: Scatter Plot </h2>"
      ]
    },
    {
      "cell_type": "markdown",
      "metadata": {
        "id": "N69ef5bYB6zw",
        "colab_type": "text"
      },
      "source": [
        "Buatlah visualisasi perbandingan scatter plot dimana kita akan membandingkan respon Jumlah Kasus Covid-19 yang terkonfirmasi berdasarkan Supply Sayuran. dimana :\n",
        "- Tandai proporsi kematian jumlah kematian (column Death) dengan ukuran dari data poin.  \n",
        "- Tandai proporsi produk hewani (column Animal Product) dengan warna, berikan colormap 'gist_yarg'.\n",
        "\n",
        "Expected Output :\n",
        "\n",
        "![alt text](https://drive.google.com/uc?id=1eAzqLAdj7Ef-pvJ4dyr0nUB-EuUldGIo)"
      ]
    },
    {
      "cell_type": "code",
      "metadata": {
        "id": "A6ls8EYsB6zy",
        "colab_type": "code",
        "colab": {
          "base_uri": "https://localhost:8080/",
          "height": 621
        },
        "outputId": "06d6ea18-7cad-4b3c-871c-8e27635b45c3"
      },
      "source": [
        "# Code Here\n",
        "data5 = df_food = pd.read_csv('Food_Supply_Quantity_kg_Data.csv')\n",
        "fig, ax = plt.subplots(figsize=(20,10))\n",
        "\n",
        "# mendefinisikan :\n",
        "y = data5['Deaths']\n",
        "x = data5['Vegetal Products']\n",
        "AA = data5['Animal Products']\n",
        "area = 10000*data5['Deaths']\n",
        "\n",
        "axmap = ax.scatter(x, y, c=AA,s=area, cmap='gist_yarg')\n",
        "\n",
        "# menambah axis label dan title\n",
        "ax.set_xlabel('Covid-19 case confirmated')\n",
        "ax.set_ylabel('Supply Vegetable Product')\n",
        "ax.set_title('Healthy Food And Covid-19')\n",
        "\n",
        "fig.colorbar(axmap)\n",
        "plt.show()"
      ],
      "execution_count": 14,
      "outputs": [
        {
          "output_type": "display_data",
          "data": {
            "image/png": "[encoded data removed]",
            "text/plain": [
              "<Figure size 1440x720 with 2 Axes>"
            ]
          },
          "metadata": {
            "tags": [],
            "needs_background": "light"
          }
        }
      ]
    }
  ]
}